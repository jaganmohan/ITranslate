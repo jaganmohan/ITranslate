{
 "cells": [
  {
   "cell_type": "code",
   "execution_count": 2,
   "metadata": {
    "collapsed": false
   },
   "outputs": [],
   "source": [
    "\"\"\" Imports and global definitions \"\"\"\n",
    "\n",
    "import numpy as np"
   ]
  },
  {
   "cell_type": "code",
   "execution_count": 3,
   "metadata": {
    "collapsed": true
   },
   "outputs": [],
   "source": [
    "# Weight and bias creation for conv and FC  layers\n",
    "\n",
    "def createConvWeights(_f,_d,_s):   \n",
    "    \"\"\" Creates _f filters of dimensions _d depth and _s x _s (width x height) \"\"\"\n",
    "    return np.random.randn(shape=(_f,_d,_s,_s))\n",
    "\n",
    "\n",
    "def createConvBiases(_f):\n",
    "    \"\"\" Creates biases for _f filters \"\"\"\n",
    "    return np.random.randn(shape=(_f))\n",
    "\n",
    "\n",
    "def createFCweights(_in,_out):\n",
    "    \"\"\" Creates weights for fully connected layer with input of size _in and output of size _out \"\"\"\n",
    "    return np.random.randn(shape=(_out,_in))\n",
    "\n",
    "\n",
    "def createFCbiases(_out):\n",
    "    \"\"\" Creates biases for fully connected layer with _out output neurons\"\"\"\n",
    "    return np.random.randn(shape=(_out))"
   ]
  },
  {
   "cell_type": "code",
   "execution_count": 6,
   "metadata": {
    "collapsed": false
   },
   "outputs": [
    {
     "ename": "SyntaxError",
     "evalue": "Missing parentheses in call to 'print' (<ipython-input-6-2b15242cdb44>, line 19)",
     "output_type": "error",
     "traceback": [
      "\u001b[0;36m  File \u001b[0;32m\"<ipython-input-6-2b15242cdb44>\"\u001b[0;36m, line \u001b[0;32m19\u001b[0m\n\u001b[0;31m    print \"incompatible filter and stride sizes\"\u001b[0m\n\u001b[0m                                               ^\u001b[0m\n\u001b[0;31mSyntaxError\u001b[0m\u001b[0;31m:\u001b[0m Missing parentheses in call to 'print'\n"
     ]
    }
   ],
   "source": [
    "# Forward propagation of the network\n",
    "\n",
    "def calcOutputConv(self,_in,_w,_b,_s,_p,relu=True):\n",
    "    \n",
    "    \"\"\" Takes input volume(_in):channels x width x height\n",
    "    weights of filters(_w):Filters x channels x width x height\n",
    "    biases(_b):Filters x channels\n",
    "    stride(_s) and padding(_p) as parameters \"\"\"\n",
    "    # Need to implement padding #\n",
    "    \n",
    "    #Shapes of input,weights and biases\n",
    "    inShape = _in.shape # LxLxD  \n",
    "    wShape = _w.shape   # FxFxDxN\n",
    "    bShape = _b.shape   # N\n",
    "    \n",
    "    #A = (L-F+2P)/S+1 ,Where P is padding and S is stride\n",
    "    #Output volume shape AxAxN\n",
    "    if (inShape[1]-wShape[2]+2*_p)%_s != 0:\n",
    "        print \"incompatible filter and stride sizes\"\n",
    "        return\n",
    "    A = (inShape[1]-wShape[2]+2*_p)/_s+1\n",
    "    outVol = np.ndarray(shape=(N,A,A))\n",
    "    \n",
    "    for f in range(wShape[0]):\n",
    "        for i in range(0,inShape[1]-wShape[2]+2*_p+1,_s):\n",
    "            for j in range(0,inShape[2]-wShape[3]+2*_p+1,_s):\n",
    "                if relu:\n",
    "                    #output with activation function\n",
    "                    outVol[f][i/_s][j/_s] += \\\n",
    "                        max(0,np.sum(_in[:,i:i+wShape[2],j:j+wShape[3]]*_w[f]) + _b[f])\n",
    "                else:\n",
    "                    #output without activation function\n",
    "                    outVol[f][i/_s][j/_s] += np.sum(_in[:,i:i+wShape[2],j:j+wShape[3]]*_w[f]) + _b[f]\n",
    "                \n",
    "    return outVol\n",
    "\n",
    "def calcActOutVol(self,_in,act=None):\n",
    "    \"\"\" Takes output from conv layer as input and applies activation function element wise \"\"\"\n",
    "    \n",
    "def maxPool(self,_in,_f,_s):\n",
    "    \n",
    "    \"\"\" Takes input volume of dimensions Channels x Width x Height\n",
    "    filter size(_f) and stride(_s) as parameters and returns a max pooled output \"\"\"\n",
    "    \n",
    "    if (_in.shape[1]-_f)%_s != 0:\n",
    "        print (\"incompatible filter and stride sizes\")\n",
    "        return\n",
    "    A = (_in.shape[1]-_f)/_s+1\n",
    "    outVol = np.ndarray(shape=(_in.shape[0],A,A))\n",
    "    for k in range(_in.shape[0]):\n",
    "        for i in range(0,_in.shape[1]-_f+1,_s):\n",
    "            for j in range(0,_in.shape[2]-_f+1,_s):\n",
    "                outVol[k][i/_s][j/_s] = np.max(_in[k,i:i+_f,j:j+_f])\n",
    "                \n",
    "    return outVol\n",
    "\n",
    "def calFCout(self,_in,_w,_b,act=None):\n",
    "    \"\"\" Calculates output in feed forward direction in a FC layer \n",
    "    _in: an N-D volume input\n",
    "    _w: Neurons in output layer x N*D weight matrix\n",
    "    _b: bias matrix\"\"\"\n",
    "    \n",
    "    outVol = np.ndarray(shape=(_w.shape[0],1))\n",
    "    inDim = 1\n",
    "    for i in _in.shape:\n",
    "        inDim *= i\n",
    "    _in = _in.reshape(inDim,1)\n",
    "    outVol = np.dot(_w,_in)+_b\n",
    "    \n",
    "    if act != None:\n",
    "        outVol = act(outVol)\n",
    "    \n",
    "    return outVol\n",
    "\n",
    "def forwardPropagation(self):\n",
    "    \n",
    "    # Conv layer 1\n",
    "    \n",
    "    # Conv layer 2\n",
    "    \n",
    "    # FC layer\n",
    "    \n",
    "    # Output layer with 10(tanh or relu)\n",
    "    return"
   ]
  },
  {
   "cell_type": "code",
   "execution_count": null,
   "metadata": {
    "collapsed": true
   },
   "outputs": [],
   "source": [
    "\"\"\" Calculating loss \"\"\"\n",
    "\n",
    "def calculate_MSE_Loss(self, y_out, batch = 1):\n",
    "    \"\"\"calculates loss for a mini batch\"\"\"\n",
    "    _y_output = forwardPropagation()\n",
    "    e = y_out - _y_output\n",
    "    l = np.sum(e * e)/batch\n",
    "    return l"
   ]
  },
  {
   "cell_type": "code",
   "execution_count": null,
   "metadata": {
    "collapsed": true
   },
   "outputs": [],
   "source": [
    "# Backward propagation of gradients\n",
    "\n",
    "\"\"\"During backpropagation of gradients from FC to conv layer do W.T * FC_output\"\"\"\n",
    "\n",
    "def gradientsFC(self, _w, e = None, prevLayerGrad = None):\n",
    "    \n",
    "    \"\"\"Calculating gradients for fully connected layer\"\"\"\n",
    "    \n",
    "    dLdw = []\n",
    "    # Calculating with respect to relu\n",
    "    if prevLayerGrad == None:\n",
    "        # Calculating gradients for last layer\n",
    "        dLdw = e\n",
    "    else:\n",
    "        # Calculating gradients for previous layer\n",
    "        dLdw = _w * prevLayerGrad        \n",
    "        dLdw = np.sum(dLdw, axis=1) # row-wise addition since each row contains gradients from each output neuron\n",
    "        \n",
    "    return dLdw\n",
    "\n",
    "def gradientsConv(self, _w, prevLayerGrad):\n",
    "    \n",
    "    \"\"\" Calculating gradients for conv layer with respect to relu \"\"\"\n",
    "    # Do a 180 degree rotation of convolution kernel and do a convolution on gradients after doing a padding of K-1\n",
    "    # assuming we use a stride of 1 during forward calculation\n",
    "    \n",
    "    w_rot = np.rot90(_w, 2)\n",
    "    convGrad = calcOutputConv(prevLayerGrad, w_rot, None, 1, _w.shape[0]-1)\n",
    "    \n",
    "    return convGrad\n",
    "\n",
    "def backpropagation(self):\n",
    "    \n",
    "    # Gradients FC\n",
    "    \n",
    "    # Gradients convolution"
   ]
  },
  {
   "cell_type": "code",
   "execution_count": null,
   "metadata": {
    "collapsed": true
   },
   "outputs": [],
   "source": [
    "\"\"\"Implementing encoder\"\"\"\n",
    "forwar"
   ]
  },
  {
   "cell_type": "code",
   "execution_count": 79,
   "metadata": {
    "collapsed": false
   },
   "outputs": [
    {
     "name": "stdout",
     "output_type": "stream",
     "text": [
      "[[[ 9.]]\n",
      "\n",
      " [[ 9.]]\n",
      "\n",
      " [[ 9.]]]\n"
     ]
    }
   ],
   "source": [
    "print maxPool(a,3,1)"
   ]
  },
  {
   "cell_type": "code",
   "execution_count": 3,
   "metadata": {
    "collapsed": false
   },
   "outputs": [
    {
     "name": "stdout",
     "output_type": "stream",
     "text": [
      "[[[1 2 3]\n",
      "  [4 5 6]\n",
      "  [7 8 9]]\n",
      "\n",
      " [[1 2 3]\n",
      "  [4 5 6]\n",
      "  [7 8 9]]\n",
      "\n",
      " [[1 2 3]\n",
      "  [4 5 6]\n",
      "  [7 8 9]]]\n",
      "[[[3 6 9]\n",
      "  [2 5 8]\n",
      "  [1 4 7]]\n",
      "\n",
      " [[3 6 9]\n",
      "  [2 5 8]\n",
      "  [1 4 7]]\n",
      "\n",
      " [[3 6 9]\n",
      "  [2 5 8]\n",
      "  [1 4 7]]]\n"
     ]
    }
   ],
   "source": [
    "a = [1,2,3,4,5,6,7,8,9,1,2,3,4,5,6,7,8,9,1,2,3,4,5,6,7,8,9]\n",
    "a = np.reshape(a,(3,3,3))\n",
    "#vol = np.ndarray(shape=(3,2,2))\n",
    "#b = [a,a]\n",
    "#b = np.reshape(b,(2,27))\n",
    "#a[0] *= [2,1,2,1]\n",
    "print (a)\n",
    "print (np.rot90(a,1,(1,2)))\n",
    "#print np.reshape(a,(4*4,1))\n",
    "#print np.sum(a, axis=0)\n",
    "#print np.dot(b,a)+[1,1]"
   ]
  }
 ],
 "metadata": {
  "kernelspec": {
   "display_name": "Python [conda env:python35]",
   "language": "python",
   "name": "conda-env-python35-py"
  },
  "language_info": {
   "codemirror_mode": {
    "name": "ipython",
    "version": 3
   },
   "file_extension": ".py",
   "mimetype": "text/x-python",
   "name": "python",
   "nbconvert_exporter": "python",
   "pygments_lexer": "ipython3",
   "version": "3.5.2"
  }
 },
 "nbformat": 4,
 "nbformat_minor": 2
}
